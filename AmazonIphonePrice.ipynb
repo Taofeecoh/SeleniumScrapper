{
 "cells": [
  {
   "attachments": {},
   "cell_type": "markdown",
   "metadata": {},
   "source": []
  },
  {
   "cell_type": "code",
   "execution_count": null,
   "metadata": {},
   "outputs": [],
   "source": [
    "# import libraries\n",
    "\n",
    "import pandas as pd\n",
    "import csv\n",
    "import time\n",
    "from datetime import date\n",
    "from selenium import webdriver\n",
    "from webdriver_manager.chrome import ChromeDriverManager\n",
    "from selenium.webdriver.common.by import By\n",
    "\n",
    "# create driver object(selenium) : works to manipulate browser\n",
    "driver = webdriver.Chrome(ChromeDriverManager().install())\n",
    "\n",
    "# create variable with website url and access with driver (acting as chrome)\n",
    "URL =\"https://www.amazon.com/Apple-iPhone-14-128GB-Space/dp/B0BN94DL3R/ref=sr_1_1?crid=1XGGTKHFUUPCC&keywords=iphone+14+pro+max&qid=1677603787&refinements=p_89%3AApple&rnid=2528832011&s=wireless&sprefix=iphone%2Caps%2C665&sr=1-1\"\n",
    "driver.get(URL)\n",
    "\n",
    "# find elements after inspecting webpage\n",
    "page_title = driver.find_element(By.ID,'productTitle').text\n",
    "price = driver.find_element(By.XPATH, \"//span[@class='a-price a-text-price a-size-medium apexPriceToPay']/span[2]\").text.strip()[1:]\n",
    "print(page_title, \"\\n\", price)\n",
    "\n",
    "# to insert date column\n",
    "dateToday = date.today()\n",
    "print(f\"Today's date: {dateToday}\")\n"
   ]
  },
  {
   "cell_type": "code",
   "execution_count": null,
   "metadata": {},
   "outputs": [],
   "source": [
    "\n",
    "column_title = ['PageTitle', 'Price', ' Date']\n",
    "column_data = [page_title, price, dateToday]\n",
    "\n",
    "with open('iphoneDataset.csv', 'w', newline='', encoding='UTF8') as t:\n",
    "    writer = csv.writer(t)\n",
    "    writer.writerow(column_title)\n",
    "    writer.writerow(column_data)\n",
    "\n",
    "with open('iphoneDataset.csv', 'a+', encoding='UTF8') as t:\n",
    "    writer = csv.writer(t)\n",
    "    writer.writerow(column_data)\n",
    "\n",
    "pdTab = pd.read_csv(r\"C:\\Users\\hp\\OneDrive\\Desktop\\Data\\Jupyter\\iphoneDataset.csv\")\n",
    "print(pdTab)"
   ]
  },
  {
   "cell_type": "code",
   "execution_count": null,
   "metadata": {},
   "outputs": [],
   "source": []
  },
  {
   "cell_type": "code",
   "execution_count": 2,
   "metadata": {},
   "outputs": [],
   "source": [
    "import pandas as pd\n",
    "import csv\n",
    "import time\n",
    "from datetime import date\n",
    "from selenium import webdriver\n",
    "from webdriver_manager.chrome import ChromeDriverManager\n",
    "from selenium.webdriver.common.by import By\n",
    "\n",
    "# define function\n",
    "def check_price():\n",
    "    # create driver object(selenium) : works to manipulate browser\n",
    "    driver = webdriver.Chrome(ChromeDriverManager().install())\n",
    "\n",
    "    # create variable with website url and access with driver (acting as chrome)\n",
    "    URL =\"https://www.amazon.com/Apple-iPhone-14-128GB-Space/dp/B0BN94DL3R/ref=sr_1_1?crid=1XGGTKHFUUPCC&keywords=iphone+14+pro+max&qid=1677603787&refinements=p_89%3AApple&rnid=2528832011&s=wireless&sprefix=iphone%2Caps%2C665&sr=1-1\"\n",
    "    driver.get(URL)\n",
    "\n",
    "    # find elements after inspecting webpage\n",
    "    page_title = driver.find_element(By.ID,'productTitle').text\n",
    "    price = driver.find_element(By.XPATH, \"//span[@class='a-price a-text-price a-size-medium apexPriceToPay']/span[2]\").text.strip()[1:]\n",
    "\n",
    "    # insert date column\n",
    "    dateToday = date.today()\n",
    "\n",
    "    column_title = ['PageTitle', 'Price', ' Date']\n",
    "    column_data = [page_title, price, dateToday]\n",
    "\n",
    "    with open('iphoneDataset.csv', 'a+', newline='', encoding='UTF8') as t:\n",
    "        writer = csv.writer(t)\n",
    "        writer.writerow(column_data)\n"
   ]
  },
  {
   "cell_type": "code",
   "execution_count": null,
   "metadata": {},
   "outputs": [],
   "source": [
    "# automate process\n",
    "\n",
    "while(True):\n",
    "    check_price()\n",
    "    time.sleep(86400)"
   ]
  },
  {
   "cell_type": "code",
   "execution_count": 4,
   "metadata": {},
   "outputs": [
    {
     "name": "stdout",
     "output_type": "stream",
     "text": [
      "                                           PageTitle     Price        Date\n",
      "0  Apple iPhone 14 Pro Max, 128GB, Space Black - ...  1,300.00  2023-03-03\n",
      "1  Apple iPhone 14 Pro Max, 128GB, Space Black - ...  1,300.00  2023-03-03\n",
      "2  Apple iPhone 14 Pro Max, 128GB, Space Black - ...  1,300.00  2023-03-04\n"
     ]
    }
   ],
   "source": [
    "pdTab = pd.read_csv(r\"C:\\Users\\hp\\OneDrive\\Desktop\\Data\\Jupyter\\iphoneDataset.csv\")\n",
    "print(pdTab)"
   ]
  },
  {
   "cell_type": "code",
   "execution_count": null,
   "metadata": {},
   "outputs": [],
   "source": []
  },
  {
   "cell_type": "code",
   "execution_count": null,
   "metadata": {},
   "outputs": [],
   "source": []
  }
 ],
 "metadata": {
  "kernelspec": {
   "display_name": ".venv",
   "language": "python",
   "name": "python3"
  },
  "language_info": {
   "codemirror_mode": {
    "name": "ipython",
    "version": 3
   },
   "file_extension": ".py",
   "mimetype": "text/x-python",
   "name": "python",
   "nbconvert_exporter": "python",
   "pygments_lexer": "ipython3",
   "version": "3.10.6"
  },
  "orig_nbformat": 4
 },
 "nbformat": 4,
 "nbformat_minor": 2
}
